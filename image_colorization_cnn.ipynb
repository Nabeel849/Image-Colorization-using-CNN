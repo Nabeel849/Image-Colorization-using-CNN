{
 "cells": [
  {
   "cell_type": "code",
   "execution_count": null,
   "metadata": {},
   "outputs": [],
   "source": [
    "import numpy as np\n",
    "import matplotlib.pyplot as plt\n",
    "import cv2\n",
    "from tensorflow import keras\n",
    "from tensorflow.keras.layers import Conv2D, UpSampling2D, InputLayer, Conv2DTranspose\n",
    "from tensorflow.keras.models import Sequential\n",
    "from skimage.color import rgb2lab, lab2rgb\n",
    "from skimage import io\n",
    "from tensorflow.keras.preprocessing.image import img_to_array, load_img, array_to_img\n",
    "import os\n"
   ]
  },
  {
   "cell_type": "code",
   "execution_count": null,
   "metadata": {},
   "outputs": [],
   "source": [
    "# Cell 2: Function to Load Images\n",
    "def load_images(image_folder, size=(256, 256)):\n",
    "    images = []\n",
    "    for filename in os.listdir(image_folder):\n",
    "        img = load_img(os.path.join(image_folder, filename), target_size=size)\n",
    "        img = img_to_array(img) / 255.0  # Normalize the image\n",
    "        images.append(img)\n",
    "    return np.array(images)"
   ]
  },
  {
   "cell_type": "code",
   "execution_count": null,
   "metadata": {},
   "outputs": [],
   "source": [
    "# Cell 3: Function to Preprocess Images\n",
    "def preprocess_images(images):\n",
    "    lab_images = rgb2lab(images)  # Convert RGB to LAB color space\n",
    "    X = lab_images[:, :, :, 0]  # Extract L channel\n",
    "    Y = lab_images[:, :, :, 1:]  # Extract a and b channels\n",
    "    X = X.reshape(X.shape + (1,))  # Reshape for input into CNN\n",
    "    return X, Y"
   ]
  },
  {
   "cell_type": "code",
   "execution_count": null,
   "metadata": {},
   "outputs": [],
   "source": [
    "# Cell 4: Function to Build the Model\n",
    "def build_model():\n",
    "    model = Sequential([\n",
    "        InputLayer(input_shape=(256, 256, 1)),\n",
    "        Conv2D(64, (3, 3), activation='relu', padding='same'),\n",
    "        Conv2D(64, (3, 3), activation='relu', padding='same', strides=2),\n",
    "        Conv2D(128, (3, 3), activation='relu', padding='same'),\n",
    "        Conv2D(128, (3, 3), activation='relu', padding='same', strides=2),\n",
    "        Conv2D(256, (3, 3), activation='relu', padding='same'),\n",
    "        Conv2D(256, (3, 3), activation='relu', padding='same', strides=2),\n",
    "        \n",
    "        # Upsampling layers\n",
    "        UpSampling2D((2, 2)),\n",
    "        Conv2D(128, (3, 3), activation='relu', padding='same'),\n",
    "        UpSampling2D((2, 2)),\n",
    "        Conv2D(64, (3, 3), activation='relu', padding='same'),\n",
    "        UpSampling2D((2, 2)),\n",
    "        Conv2D(32, (3, 3), activation='relu', padding='same'),\n",
    "\n",
    "        # Final output layer\n",
    "        Conv2D(2, (3, 3), activation='tanh', padding='same')  # 2 channels for 'a' and 'b'\n",
    "    ])\n",
    "    model.compile(optimizer='adam', loss='mean_squared_error')\n",
    "    model.summary()\n",
    "    return model"
   ]
  },
  {
   "cell_type": "code",
   "execution_count": null,
   "metadata": {},
   "outputs": [],
   "source": [
    "# Cell 5: Function to Train the Model\n",
    "def train_model(model, X, Y, epochs=50, batch_size=16):\n",
    "    model.fit(X, Y, epochs=epochs, batch_size=batch_size)\n",
    "    model.save(\"image_colorization_model.keras\")"
   ]
  },
  {
   "cell_type": "code",
   "execution_count": null,
   "metadata": {},
   "outputs": [],
   "source": [
    "# Cell 6: Model Training and Saving\n",
    "# Path to your image folder\n",
    "image_folder = 'images/'  # Replace with your dataset path\n",
    "images = load_images(image_folder)\n",
    "X, Y = preprocess_images(images)\n",
    "\n",
    "# Build and train the model\n",
    "model = build_model()\n",
    "train_model(model, X, Y, epochs=100, batch_size=16)"
   ]
  },
  {
   "cell_type": "code",
   "execution_count": null,
   "metadata": {},
   "outputs": [],
   "source": [
    "# Cell 7: Image Colorization Loop\n",
    "# Create directory for output images if it doesn't exist\n",
    "output_folder = 'colorized_images/'\n",
    "os.makedirs(output_folder, exist_ok=True)\n",
    "\n",
    "# Loop through all images in the folder for colorization\n",
    "for filename in os.listdir(image_folder):\n",
    "    # Ensure the file is an image\n",
    "    if filename.lower().endswith(('.png', '.jpg', '.jpeg')):\n",
    "        test_image = load_img(os.path.join(image_folder, filename), target_size=(256, 256), color_mode='grayscale')\n",
    "        test_image = img_to_array(test_image) / 255.0\n",
    "        test_image = test_image.reshape((1, 256, 256, 1))\n",
    "\n",
    "        # Predict the a and b channels using the trained model\n",
    "        predicted_ab = model.predict(test_image)\n",
    "\n",
    "        # Combine with the L channel to form a color image\n",
    "        test_image_lab = np.zeros((256, 256, 3))\n",
    "        test_image_lab[:, :, 0] = test_image[0, :, :, 0] * 100  # Rescale L channel to original scale\n",
    "        test_image_lab[:, :, 1:] = predicted_ab[0] * 128  # Rescale ab channels\n",
    "\n",
    "        # Convert LAB image to RGB\n",
    "        colorized_image = lab2rgb(test_image_lab)\n",
    "\n",
    "        # Ensure the image data is in the range [0, 255] and convert to uint8\n",
    "        colorized_image = (colorized_image * 255).astype(np.uint8)\n",
    "\n",
    "        # Save the colorized image\n",
    "        output_filename = os.path.join(output_folder, f'colorized_{filename}')\n",
    "        io.imsave(output_filename, colorized_image)\n",
    "\n",
    "        # Optionally display the images\n",
    "        plt.figure(figsize=(10, 5))\n",
    "        plt.subplot(1, 2, 1)\n",
    "        plt.title(\"Original Image\")\n",
    "        plt.imshow(array_to_img(test_image[0]), cmap='gray')\n",
    "\n",
    "        plt.subplot(1, 2, 2)\n",
    "        plt.title(\"Colorized Image\")\n",
    "        plt.imshow(colorized_image)\n",
    "        plt.show()\n"
   ]
  }
 ],
 "metadata": {
  "kernelspec": {
   "display_name": "Python 3",
   "language": "python",
   "name": "python3"
  },
  "language_info": {
   "codemirror_mode": {
    "name": "ipython",
    "version": 3
   },
   "file_extension": ".py",
   "mimetype": "text/x-python",
   "name": "python",
   "nbconvert_exporter": "python",
   "pygments_lexer": "ipython3",
   "version": "3.12.2"
  }
 },
 "nbformat": 4,
 "nbformat_minor": 2
}
